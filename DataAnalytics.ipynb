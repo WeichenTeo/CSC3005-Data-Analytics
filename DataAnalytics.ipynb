{
 "cells": [
  {
   "source": [
    "<h1> Data Preprocessing <h1>"
   ],
   "cell_type": "markdown",
   "metadata": {}
  },
  {
   "cell_type": "code",
   "execution_count": 100,
   "metadata": {},
   "outputs": [
    {
     "output_type": "execute_result",
     "data": {
      "text/plain": [
       "          month        town  flat_type block        street_name storey_range  \\\n",
       "0       2017-01  ANG MO KIO     2 ROOM   406  ANG MO KIO AVE 10     10 TO 12   \n",
       "1       2017-01  ANG MO KIO     3 ROOM   108   ANG MO KIO AVE 4     01 TO 03   \n",
       "2       2017-01  ANG MO KIO     3 ROOM   602   ANG MO KIO AVE 5     01 TO 03   \n",
       "3       2017-01  ANG MO KIO     3 ROOM   465  ANG MO KIO AVE 10     04 TO 06   \n",
       "4       2017-01  ANG MO KIO     3 ROOM   601   ANG MO KIO AVE 5     01 TO 03   \n",
       "...         ...         ...        ...   ...                ...          ...   \n",
       "100642  2021-06      YISHUN     5 ROOM  511A       YISHUN ST 51     10 TO 12   \n",
       "100643  2021-06      YISHUN  EXECUTIVE   664       YISHUN AVE 4     01 TO 03   \n",
       "100644  2021-06      YISHUN  EXECUTIVE   277       YISHUN ST 22     01 TO 03   \n",
       "100645  2021-06      YISHUN  EXECUTIVE   643       YISHUN ST 61     01 TO 03   \n",
       "100646  2021-06      YISHUN  EXECUTIVE   828       YISHUN ST 81     04 TO 06   \n",
       "\n",
       "        floor_area_sqm      flat_model  lease_commence_date  \\\n",
       "0                 44.0        Improved                 1979   \n",
       "1                 67.0  New Generation                 1978   \n",
       "2                 67.0  New Generation                 1980   \n",
       "3                 68.0  New Generation                 1980   \n",
       "4                 67.0  New Generation                 1980   \n",
       "...                ...             ...                  ...   \n",
       "100642           113.0        Improved                 2017   \n",
       "100643           181.0       Apartment                 1992   \n",
       "100644           152.0      Maisonette                 1985   \n",
       "100645           146.0      Maisonette                 1987   \n",
       "100646           146.0      Maisonette                 1988   \n",
       "\n",
       "           remaining_lease  resale_price  \n",
       "0       61 years 04 months      232000.0  \n",
       "1       60 years 07 months      250000.0  \n",
       "2       62 years 05 months      262000.0  \n",
       "3        62 years 01 month      265000.0  \n",
       "4       62 years 05 months      265000.0  \n",
       "...                    ...           ...  \n",
       "100642  95 years 03 months      610000.0  \n",
       "100643  69 years 11 months      868000.0  \n",
       "100644  63 years 03 months      585000.0  \n",
       "100645  65 years 04 months      600000.0  \n",
       "100646  65 years 08 months      715000.0  \n",
       "\n",
       "[100647 rows x 11 columns]"
      ],
      "text/html": "<div>\n<style scoped>\n    .dataframe tbody tr th:only-of-type {\n        vertical-align: middle;\n    }\n\n    .dataframe tbody tr th {\n        vertical-align: top;\n    }\n\n    .dataframe thead th {\n        text-align: right;\n    }\n</style>\n<table border=\"1\" class=\"dataframe\">\n  <thead>\n    <tr style=\"text-align: right;\">\n      <th></th>\n      <th>month</th>\n      <th>town</th>\n      <th>flat_type</th>\n      <th>block</th>\n      <th>street_name</th>\n      <th>storey_range</th>\n      <th>floor_area_sqm</th>\n      <th>flat_model</th>\n      <th>lease_commence_date</th>\n      <th>remaining_lease</th>\n      <th>resale_price</th>\n    </tr>\n  </thead>\n  <tbody>\n    <tr>\n      <th>0</th>\n      <td>2017-01</td>\n      <td>ANG MO KIO</td>\n      <td>2 ROOM</td>\n      <td>406</td>\n      <td>ANG MO KIO AVE 10</td>\n      <td>10 TO 12</td>\n      <td>44.0</td>\n      <td>Improved</td>\n      <td>1979</td>\n      <td>61 years 04 months</td>\n      <td>232000.0</td>\n    </tr>\n    <tr>\n      <th>1</th>\n      <td>2017-01</td>\n      <td>ANG MO KIO</td>\n      <td>3 ROOM</td>\n      <td>108</td>\n      <td>ANG MO KIO AVE 4</td>\n      <td>01 TO 03</td>\n      <td>67.0</td>\n      <td>New Generation</td>\n      <td>1978</td>\n      <td>60 years 07 months</td>\n      <td>250000.0</td>\n    </tr>\n    <tr>\n      <th>2</th>\n      <td>2017-01</td>\n      <td>ANG MO KIO</td>\n      <td>3 ROOM</td>\n      <td>602</td>\n      <td>ANG MO KIO AVE 5</td>\n      <td>01 TO 03</td>\n      <td>67.0</td>\n      <td>New Generation</td>\n      <td>1980</td>\n      <td>62 years 05 months</td>\n      <td>262000.0</td>\n    </tr>\n    <tr>\n      <th>3</th>\n      <td>2017-01</td>\n      <td>ANG MO KIO</td>\n      <td>3 ROOM</td>\n      <td>465</td>\n      <td>ANG MO KIO AVE 10</td>\n      <td>04 TO 06</td>\n      <td>68.0</td>\n      <td>New Generation</td>\n      <td>1980</td>\n      <td>62 years 01 month</td>\n      <td>265000.0</td>\n    </tr>\n    <tr>\n      <th>4</th>\n      <td>2017-01</td>\n      <td>ANG MO KIO</td>\n      <td>3 ROOM</td>\n      <td>601</td>\n      <td>ANG MO KIO AVE 5</td>\n      <td>01 TO 03</td>\n      <td>67.0</td>\n      <td>New Generation</td>\n      <td>1980</td>\n      <td>62 years 05 months</td>\n      <td>265000.0</td>\n    </tr>\n    <tr>\n      <th>...</th>\n      <td>...</td>\n      <td>...</td>\n      <td>...</td>\n      <td>...</td>\n      <td>...</td>\n      <td>...</td>\n      <td>...</td>\n      <td>...</td>\n      <td>...</td>\n      <td>...</td>\n      <td>...</td>\n    </tr>\n    <tr>\n      <th>100642</th>\n      <td>2021-06</td>\n      <td>YISHUN</td>\n      <td>5 ROOM</td>\n      <td>511A</td>\n      <td>YISHUN ST 51</td>\n      <td>10 TO 12</td>\n      <td>113.0</td>\n      <td>Improved</td>\n      <td>2017</td>\n      <td>95 years 03 months</td>\n      <td>610000.0</td>\n    </tr>\n    <tr>\n      <th>100643</th>\n      <td>2021-06</td>\n      <td>YISHUN</td>\n      <td>EXECUTIVE</td>\n      <td>664</td>\n      <td>YISHUN AVE 4</td>\n      <td>01 TO 03</td>\n      <td>181.0</td>\n      <td>Apartment</td>\n      <td>1992</td>\n      <td>69 years 11 months</td>\n      <td>868000.0</td>\n    </tr>\n    <tr>\n      <th>100644</th>\n      <td>2021-06</td>\n      <td>YISHUN</td>\n      <td>EXECUTIVE</td>\n      <td>277</td>\n      <td>YISHUN ST 22</td>\n      <td>01 TO 03</td>\n      <td>152.0</td>\n      <td>Maisonette</td>\n      <td>1985</td>\n      <td>63 years 03 months</td>\n      <td>585000.0</td>\n    </tr>\n    <tr>\n      <th>100645</th>\n      <td>2021-06</td>\n      <td>YISHUN</td>\n      <td>EXECUTIVE</td>\n      <td>643</td>\n      <td>YISHUN ST 61</td>\n      <td>01 TO 03</td>\n      <td>146.0</td>\n      <td>Maisonette</td>\n      <td>1987</td>\n      <td>65 years 04 months</td>\n      <td>600000.0</td>\n    </tr>\n    <tr>\n      <th>100646</th>\n      <td>2021-06</td>\n      <td>YISHUN</td>\n      <td>EXECUTIVE</td>\n      <td>828</td>\n      <td>YISHUN ST 81</td>\n      <td>04 TO 06</td>\n      <td>146.0</td>\n      <td>Maisonette</td>\n      <td>1988</td>\n      <td>65 years 08 months</td>\n      <td>715000.0</td>\n    </tr>\n  </tbody>\n</table>\n<p>100647 rows × 11 columns</p>\n</div>"
     },
     "metadata": {},
     "execution_count": 100
    }
   ],
   "source": [
    "import pandas as pd \n",
    "import numpy as np\n",
    "import requests\n",
    "import json\n",
    "from datetime import datetime\n",
    "from dateutil.relativedelta import relativedelta\n",
    "from sklearn.decomposition import PCA\n",
    "import matplotlib.pyplot as plt\n",
    "from matplotlib.pyplot import figure\n",
    "\n",
    "pd.set_option('max_columns',None)\n",
    "# pd.set_option('display.max_rows',None)\n",
    "\n",
    "#get input\n",
    "receivedFileName=\"resale-flat-prices-based-on-registration-date-from-jan-2017-onwards.csv\"\n",
    "resaleFlatDF = pd.read_csv(receivedFileName, encoding = \"ISO-8859-1\")\n",
    "\n",
    "\n",
    "# df = pd.DataFrame(data = resaleFlat)\n",
    "\n",
    "\n",
    "# df = df.sort_values(by=['street_name'])\n",
    "# df[\"point_of_interest\"] = 0\n",
    "# df = df.reset_index(drop=True)\n",
    "\n",
    "\n",
    "type(resaleFlatDF)\n",
    "resaleFlatDF"
   ]
  },
  {
   "source": [
    "Retrieve accurate year left for remaining_lease based on the year the data is entered"
   ],
   "cell_type": "markdown",
   "metadata": {}
  },
  {
   "cell_type": "code",
   "execution_count": 101,
   "metadata": {
    "tags": []
   },
   "outputs": [
    {
     "output_type": "execute_result",
     "data": {
      "text/plain": [
       "          month        town  flat_type block        street_name storey_range  \\\n",
       "0       2017-01  ANG MO KIO     2 ROOM   406  ANG MO KIO AVE 10     10 TO 12   \n",
       "1       2017-01  ANG MO KIO     3 ROOM   108   ANG MO KIO AVE 4     01 TO 03   \n",
       "2       2017-01  ANG MO KIO     3 ROOM   602   ANG MO KIO AVE 5     01 TO 03   \n",
       "3       2017-01  ANG MO KIO     3 ROOM   465  ANG MO KIO AVE 10     04 TO 06   \n",
       "4       2017-01  ANG MO KIO     3 ROOM   601   ANG MO KIO AVE 5     01 TO 03   \n",
       "...         ...         ...        ...   ...                ...          ...   \n",
       "100642  2021-06      YISHUN     5 ROOM  511A       YISHUN ST 51     10 TO 12   \n",
       "100643  2021-06      YISHUN  EXECUTIVE   664       YISHUN AVE 4     01 TO 03   \n",
       "100644  2021-06      YISHUN  EXECUTIVE   277       YISHUN ST 22     01 TO 03   \n",
       "100645  2021-06      YISHUN  EXECUTIVE   643       YISHUN ST 61     01 TO 03   \n",
       "100646  2021-06      YISHUN  EXECUTIVE   828       YISHUN ST 81     04 TO 06   \n",
       "\n",
       "        floor_area_sqm      flat_model  lease_commence_date remaining_lease  \\\n",
       "0                 44.0        Improved                 1979              57   \n",
       "1                 67.0  New Generation                 1978              56   \n",
       "2                 67.0  New Generation                 1980              58   \n",
       "3                 68.0  New Generation                 1980              58   \n",
       "4                 67.0  New Generation                 1980              58   \n",
       "...                ...             ...                  ...             ...   \n",
       "100642           113.0        Improved                 2017              95   \n",
       "100643           181.0       Apartment                 1992              69   \n",
       "100644           152.0      Maisonette                 1985              63   \n",
       "100645           146.0      Maisonette                 1987              65   \n",
       "100646           146.0      Maisonette                 1988              65   \n",
       "\n",
       "        resale_price  \n",
       "0           232000.0  \n",
       "1           250000.0  \n",
       "2           262000.0  \n",
       "3           265000.0  \n",
       "4           265000.0  \n",
       "...              ...  \n",
       "100642      610000.0  \n",
       "100643      868000.0  \n",
       "100644      585000.0  \n",
       "100645      600000.0  \n",
       "100646      715000.0  \n",
       "\n",
       "[100647 rows x 11 columns]"
      ],
      "text/html": "<div>\n<style scoped>\n    .dataframe tbody tr th:only-of-type {\n        vertical-align: middle;\n    }\n\n    .dataframe tbody tr th {\n        vertical-align: top;\n    }\n\n    .dataframe thead th {\n        text-align: right;\n    }\n</style>\n<table border=\"1\" class=\"dataframe\">\n  <thead>\n    <tr style=\"text-align: right;\">\n      <th></th>\n      <th>month</th>\n      <th>town</th>\n      <th>flat_type</th>\n      <th>block</th>\n      <th>street_name</th>\n      <th>storey_range</th>\n      <th>floor_area_sqm</th>\n      <th>flat_model</th>\n      <th>lease_commence_date</th>\n      <th>remaining_lease</th>\n      <th>resale_price</th>\n    </tr>\n  </thead>\n  <tbody>\n    <tr>\n      <th>0</th>\n      <td>2017-01</td>\n      <td>ANG MO KIO</td>\n      <td>2 ROOM</td>\n      <td>406</td>\n      <td>ANG MO KIO AVE 10</td>\n      <td>10 TO 12</td>\n      <td>44.0</td>\n      <td>Improved</td>\n      <td>1979</td>\n      <td>57</td>\n      <td>232000.0</td>\n    </tr>\n    <tr>\n      <th>1</th>\n      <td>2017-01</td>\n      <td>ANG MO KIO</td>\n      <td>3 ROOM</td>\n      <td>108</td>\n      <td>ANG MO KIO AVE 4</td>\n      <td>01 TO 03</td>\n      <td>67.0</td>\n      <td>New Generation</td>\n      <td>1978</td>\n      <td>56</td>\n      <td>250000.0</td>\n    </tr>\n    <tr>\n      <th>2</th>\n      <td>2017-01</td>\n      <td>ANG MO KIO</td>\n      <td>3 ROOM</td>\n      <td>602</td>\n      <td>ANG MO KIO AVE 5</td>\n      <td>01 TO 03</td>\n      <td>67.0</td>\n      <td>New Generation</td>\n      <td>1980</td>\n      <td>58</td>\n      <td>262000.0</td>\n    </tr>\n    <tr>\n      <th>3</th>\n      <td>2017-01</td>\n      <td>ANG MO KIO</td>\n      <td>3 ROOM</td>\n      <td>465</td>\n      <td>ANG MO KIO AVE 10</td>\n      <td>04 TO 06</td>\n      <td>68.0</td>\n      <td>New Generation</td>\n      <td>1980</td>\n      <td>58</td>\n      <td>265000.0</td>\n    </tr>\n    <tr>\n      <th>4</th>\n      <td>2017-01</td>\n      <td>ANG MO KIO</td>\n      <td>3 ROOM</td>\n      <td>601</td>\n      <td>ANG MO KIO AVE 5</td>\n      <td>01 TO 03</td>\n      <td>67.0</td>\n      <td>New Generation</td>\n      <td>1980</td>\n      <td>58</td>\n      <td>265000.0</td>\n    </tr>\n    <tr>\n      <th>...</th>\n      <td>...</td>\n      <td>...</td>\n      <td>...</td>\n      <td>...</td>\n      <td>...</td>\n      <td>...</td>\n      <td>...</td>\n      <td>...</td>\n      <td>...</td>\n      <td>...</td>\n      <td>...</td>\n    </tr>\n    <tr>\n      <th>100642</th>\n      <td>2021-06</td>\n      <td>YISHUN</td>\n      <td>5 ROOM</td>\n      <td>511A</td>\n      <td>YISHUN ST 51</td>\n      <td>10 TO 12</td>\n      <td>113.0</td>\n      <td>Improved</td>\n      <td>2017</td>\n      <td>95</td>\n      <td>610000.0</td>\n    </tr>\n    <tr>\n      <th>100643</th>\n      <td>2021-06</td>\n      <td>YISHUN</td>\n      <td>EXECUTIVE</td>\n      <td>664</td>\n      <td>YISHUN AVE 4</td>\n      <td>01 TO 03</td>\n      <td>181.0</td>\n      <td>Apartment</td>\n      <td>1992</td>\n      <td>69</td>\n      <td>868000.0</td>\n    </tr>\n    <tr>\n      <th>100644</th>\n      <td>2021-06</td>\n      <td>YISHUN</td>\n      <td>EXECUTIVE</td>\n      <td>277</td>\n      <td>YISHUN ST 22</td>\n      <td>01 TO 03</td>\n      <td>152.0</td>\n      <td>Maisonette</td>\n      <td>1985</td>\n      <td>63</td>\n      <td>585000.0</td>\n    </tr>\n    <tr>\n      <th>100645</th>\n      <td>2021-06</td>\n      <td>YISHUN</td>\n      <td>EXECUTIVE</td>\n      <td>643</td>\n      <td>YISHUN ST 61</td>\n      <td>01 TO 03</td>\n      <td>146.0</td>\n      <td>Maisonette</td>\n      <td>1987</td>\n      <td>65</td>\n      <td>600000.0</td>\n    </tr>\n    <tr>\n      <th>100646</th>\n      <td>2021-06</td>\n      <td>YISHUN</td>\n      <td>EXECUTIVE</td>\n      <td>828</td>\n      <td>YISHUN ST 81</td>\n      <td>04 TO 06</td>\n      <td>146.0</td>\n      <td>Maisonette</td>\n      <td>1988</td>\n      <td>65</td>\n      <td>715000.0</td>\n    </tr>\n  </tbody>\n</table>\n<p>100647 rows × 11 columns</p>\n</div>"
     },
     "metadata": {},
     "execution_count": 101
    }
   ],
   "source": [
    "for i, row in resaleFlatDF.iterrows():\n",
    "   # datetime_object = datetime(2020, 2 ,2)\n",
    "    year = int(row[\"remaining_lease\"].split(\"years\")[0])\n",
    "    startDatetime = datetime.strptime(row[\"month\"], '%Y-%m')\n",
    "    #get the end date value\n",
    "    currentDate = datetime.now()\n",
    "    numberOfYears = (startDatetime.year + year - currentDate.year)\n",
    "    resaleFlatDF.at[i, 'remaining_lease'] = numberOfYears\n",
    "resaleFlatDF"
   ]
  },
  {
   "source": [
    "Flat type, storey_range and flat model is convert to numerical for categorisation <br>\n",
    "Resale price is categorised to every \\$100,000 or bigger than \\$1,000,000 <br>\n",
    "Remaining lease is categorised to every decade <br>"
   ],
   "cell_type": "markdown",
   "metadata": {}
  },
  {
   "cell_type": "code",
   "execution_count": 102,
   "metadata": {},
   "outputs": [
    {
     "output_type": "execute_result",
     "data": {
      "text/plain": [
       "          month        town  flat_type block        street_name  storey_range  \\\n",
       "0       2017-01  ANG MO KIO          2   406  ANG MO KIO AVE 10             4   \n",
       "1       2017-01  ANG MO KIO          3   108   ANG MO KIO AVE 4             1   \n",
       "2       2017-01  ANG MO KIO          3   602   ANG MO KIO AVE 5             1   \n",
       "3       2017-01  ANG MO KIO          3   465  ANG MO KIO AVE 10             2   \n",
       "4       2017-01  ANG MO KIO          3   601   ANG MO KIO AVE 5             1   \n",
       "...         ...         ...        ...   ...                ...           ...   \n",
       "100642  2021-06      YISHUN          5  511A       YISHUN ST 51             4   \n",
       "100643  2021-06      YISHUN          6   664       YISHUN AVE 4             1   \n",
       "100644  2021-06      YISHUN          6   277       YISHUN ST 22             1   \n",
       "100645  2021-06      YISHUN          6   643       YISHUN ST 61             1   \n",
       "100646  2021-06      YISHUN          6   828       YISHUN ST 81             2   \n",
       "\n",
       "        floor_area_sqm  flat_model  lease_commence_date  remaining_lease  \\\n",
       "0                 44.0           5                 1979                6   \n",
       "1                 67.0          12                 1978                6   \n",
       "2                 67.0          12                 1980                6   \n",
       "3                 68.0          12                 1980                6   \n",
       "4                 67.0          12                 1980                6   \n",
       "...                ...         ...                  ...              ...   \n",
       "100642           113.0           5                 2017               10   \n",
       "100643           181.0           3                 1992                7   \n",
       "100644           152.0           7                 1985                7   \n",
       "100645           146.0           7                 1987                7   \n",
       "100646           146.0           7                 1988                7   \n",
       "\n",
       "        resale_price  \n",
       "0                  3  \n",
       "1                  3  \n",
       "2                  3  \n",
       "3                  3  \n",
       "4                  3  \n",
       "...              ...  \n",
       "100642             7  \n",
       "100643             9  \n",
       "100644             6  \n",
       "100645             6  \n",
       "100646             8  \n",
       "\n",
       "[100647 rows x 11 columns]"
      ],
      "text/html": "<div>\n<style scoped>\n    .dataframe tbody tr th:only-of-type {\n        vertical-align: middle;\n    }\n\n    .dataframe tbody tr th {\n        vertical-align: top;\n    }\n\n    .dataframe thead th {\n        text-align: right;\n    }\n</style>\n<table border=\"1\" class=\"dataframe\">\n  <thead>\n    <tr style=\"text-align: right;\">\n      <th></th>\n      <th>month</th>\n      <th>town</th>\n      <th>flat_type</th>\n      <th>block</th>\n      <th>street_name</th>\n      <th>storey_range</th>\n      <th>floor_area_sqm</th>\n      <th>flat_model</th>\n      <th>lease_commence_date</th>\n      <th>remaining_lease</th>\n      <th>resale_price</th>\n    </tr>\n  </thead>\n  <tbody>\n    <tr>\n      <th>0</th>\n      <td>2017-01</td>\n      <td>ANG MO KIO</td>\n      <td>2</td>\n      <td>406</td>\n      <td>ANG MO KIO AVE 10</td>\n      <td>4</td>\n      <td>44.0</td>\n      <td>5</td>\n      <td>1979</td>\n      <td>6</td>\n      <td>3</td>\n    </tr>\n    <tr>\n      <th>1</th>\n      <td>2017-01</td>\n      <td>ANG MO KIO</td>\n      <td>3</td>\n      <td>108</td>\n      <td>ANG MO KIO AVE 4</td>\n      <td>1</td>\n      <td>67.0</td>\n      <td>12</td>\n      <td>1978</td>\n      <td>6</td>\n      <td>3</td>\n    </tr>\n    <tr>\n      <th>2</th>\n      <td>2017-01</td>\n      <td>ANG MO KIO</td>\n      <td>3</td>\n      <td>602</td>\n      <td>ANG MO KIO AVE 5</td>\n      <td>1</td>\n      <td>67.0</td>\n      <td>12</td>\n      <td>1980</td>\n      <td>6</td>\n      <td>3</td>\n    </tr>\n    <tr>\n      <th>3</th>\n      <td>2017-01</td>\n      <td>ANG MO KIO</td>\n      <td>3</td>\n      <td>465</td>\n      <td>ANG MO KIO AVE 10</td>\n      <td>2</td>\n      <td>68.0</td>\n      <td>12</td>\n      <td>1980</td>\n      <td>6</td>\n      <td>3</td>\n    </tr>\n    <tr>\n      <th>4</th>\n      <td>2017-01</td>\n      <td>ANG MO KIO</td>\n      <td>3</td>\n      <td>601</td>\n      <td>ANG MO KIO AVE 5</td>\n      <td>1</td>\n      <td>67.0</td>\n      <td>12</td>\n      <td>1980</td>\n      <td>6</td>\n      <td>3</td>\n    </tr>\n    <tr>\n      <th>...</th>\n      <td>...</td>\n      <td>...</td>\n      <td>...</td>\n      <td>...</td>\n      <td>...</td>\n      <td>...</td>\n      <td>...</td>\n      <td>...</td>\n      <td>...</td>\n      <td>...</td>\n      <td>...</td>\n    </tr>\n    <tr>\n      <th>100642</th>\n      <td>2021-06</td>\n      <td>YISHUN</td>\n      <td>5</td>\n      <td>511A</td>\n      <td>YISHUN ST 51</td>\n      <td>4</td>\n      <td>113.0</td>\n      <td>5</td>\n      <td>2017</td>\n      <td>10</td>\n      <td>7</td>\n    </tr>\n    <tr>\n      <th>100643</th>\n      <td>2021-06</td>\n      <td>YISHUN</td>\n      <td>6</td>\n      <td>664</td>\n      <td>YISHUN AVE 4</td>\n      <td>1</td>\n      <td>181.0</td>\n      <td>3</td>\n      <td>1992</td>\n      <td>7</td>\n      <td>9</td>\n    </tr>\n    <tr>\n      <th>100644</th>\n      <td>2021-06</td>\n      <td>YISHUN</td>\n      <td>6</td>\n      <td>277</td>\n      <td>YISHUN ST 22</td>\n      <td>1</td>\n      <td>152.0</td>\n      <td>7</td>\n      <td>1985</td>\n      <td>7</td>\n      <td>6</td>\n    </tr>\n    <tr>\n      <th>100645</th>\n      <td>2021-06</td>\n      <td>YISHUN</td>\n      <td>6</td>\n      <td>643</td>\n      <td>YISHUN ST 61</td>\n      <td>1</td>\n      <td>146.0</td>\n      <td>7</td>\n      <td>1987</td>\n      <td>7</td>\n      <td>6</td>\n    </tr>\n    <tr>\n      <th>100646</th>\n      <td>2021-06</td>\n      <td>YISHUN</td>\n      <td>6</td>\n      <td>828</td>\n      <td>YISHUN ST 81</td>\n      <td>2</td>\n      <td>146.0</td>\n      <td>7</td>\n      <td>1988</td>\n      <td>7</td>\n      <td>8</td>\n    </tr>\n  </tbody>\n</table>\n<p>100647 rows × 11 columns</p>\n</div>"
     },
     "metadata": {},
     "execution_count": 102
    }
   ],
   "source": [
    "import math\n",
    "#price interval every 100000, when above 1000000 just display above 1000000\n",
    "flatType = sorted(resaleFlatDF[\"flat_type\"].drop_duplicates())\n",
    "flatType\n",
    "i = 1 \n",
    "for x in flatType:\n",
    "    resaleFlatDF[\"flat_type\"] = resaleFlatDF[\"flat_type\"].replace([x],i)\n",
    "    i = i + 1   \n",
    "\n",
    "storeyRange = sorted(resaleFlatDF[\"storey_range\"].drop_duplicates())\n",
    "storeyRange\n",
    "i = 1 \n",
    "for x in storeyRange:\n",
    "    resaleFlatDF[\"storey_range\"] = resaleFlatDF[\"storey_range\"].replace([x],i)\n",
    "    i = i + 1 \n",
    "    \n",
    "flatModel = sorted(resaleFlatDF[\"flat_model\"].drop_duplicates())\n",
    "flatModel\n",
    "i = 1 \n",
    "for x in flatModel:\n",
    "    resaleFlatDF[\"flat_model\"] = resaleFlatDF[\"flat_model\"].replace([x],i)\n",
    "    i = i + 1   \n",
    "#price categorise\n",
    "resaleFlatDF['resale_price'] = resaleFlatDF['resale_price'].apply(lambda x: math.ceil(x/100000) if x < 1000000 else 11)\n",
    "\n",
    "#remaining lease categorise\n",
    "resaleFlatDF['remaining_lease'] = resaleFlatDF['remaining_lease'].apply(lambda x: math.ceil(x/10))\n",
    "resaleFlatDF"
   ]
  },
  {
   "source": [
    "All these variables does not define the flat <br>\n",
    "Except for floor_area_sqm which is based on the flat type. Hence it is redundant"
   ],
   "cell_type": "markdown",
   "metadata": {}
  },
  {
   "cell_type": "code",
   "execution_count": 103,
   "metadata": {},
   "outputs": [
    {
     "output_type": "execute_result",
     "data": {
      "text/plain": [
       "        flat_type  storey_range  flat_model  remaining_lease  resale_price\n",
       "0               2             4           5                6             3\n",
       "1               3             1          12                6             3\n",
       "2               3             1          12                6             3\n",
       "3               3             2          12                6             3\n",
       "4               3             1          12                6             3\n",
       "...           ...           ...         ...              ...           ...\n",
       "100642          5             4           5               10             7\n",
       "100643          6             1           3                7             9\n",
       "100644          6             1           7                7             6\n",
       "100645          6             1           7                7             6\n",
       "100646          6             2           7                7             8\n",
       "\n",
       "[100647 rows x 5 columns]"
      ],
      "text/html": "<div>\n<style scoped>\n    .dataframe tbody tr th:only-of-type {\n        vertical-align: middle;\n    }\n\n    .dataframe tbody tr th {\n        vertical-align: top;\n    }\n\n    .dataframe thead th {\n        text-align: right;\n    }\n</style>\n<table border=\"1\" class=\"dataframe\">\n  <thead>\n    <tr style=\"text-align: right;\">\n      <th></th>\n      <th>flat_type</th>\n      <th>storey_range</th>\n      <th>flat_model</th>\n      <th>remaining_lease</th>\n      <th>resale_price</th>\n    </tr>\n  </thead>\n  <tbody>\n    <tr>\n      <th>0</th>\n      <td>2</td>\n      <td>4</td>\n      <td>5</td>\n      <td>6</td>\n      <td>3</td>\n    </tr>\n    <tr>\n      <th>1</th>\n      <td>3</td>\n      <td>1</td>\n      <td>12</td>\n      <td>6</td>\n      <td>3</td>\n    </tr>\n    <tr>\n      <th>2</th>\n      <td>3</td>\n      <td>1</td>\n      <td>12</td>\n      <td>6</td>\n      <td>3</td>\n    </tr>\n    <tr>\n      <th>3</th>\n      <td>3</td>\n      <td>2</td>\n      <td>12</td>\n      <td>6</td>\n      <td>3</td>\n    </tr>\n    <tr>\n      <th>4</th>\n      <td>3</td>\n      <td>1</td>\n      <td>12</td>\n      <td>6</td>\n      <td>3</td>\n    </tr>\n    <tr>\n      <th>...</th>\n      <td>...</td>\n      <td>...</td>\n      <td>...</td>\n      <td>...</td>\n      <td>...</td>\n    </tr>\n    <tr>\n      <th>100642</th>\n      <td>5</td>\n      <td>4</td>\n      <td>5</td>\n      <td>10</td>\n      <td>7</td>\n    </tr>\n    <tr>\n      <th>100643</th>\n      <td>6</td>\n      <td>1</td>\n      <td>3</td>\n      <td>7</td>\n      <td>9</td>\n    </tr>\n    <tr>\n      <th>100644</th>\n      <td>6</td>\n      <td>1</td>\n      <td>7</td>\n      <td>7</td>\n      <td>6</td>\n    </tr>\n    <tr>\n      <th>100645</th>\n      <td>6</td>\n      <td>1</td>\n      <td>7</td>\n      <td>7</td>\n      <td>6</td>\n    </tr>\n    <tr>\n      <th>100646</th>\n      <td>6</td>\n      <td>2</td>\n      <td>7</td>\n      <td>7</td>\n      <td>8</td>\n    </tr>\n  </tbody>\n</table>\n<p>100647 rows × 5 columns</p>\n</div>"
     },
     "metadata": {},
     "execution_count": 103
    }
   ],
   "source": [
    "resaleFlatDF = resaleFlatDF.drop(['month','town','block','floor_area_sqm','street_name','lease_commence_date'], axis=1)\n",
    "resaleFlatDF"
   ]
  },
  {
   "cell_type": "code",
   "execution_count": 104,
   "metadata": {
    "tags": []
   },
   "outputs": [
    {
     "output_type": "execute_result",
     "data": {
      "text/plain": [
       "        flat_type  storey_range  flat_model  remaining_lease  resale_price  \\\n",
       "0               2             4           5                6             3   \n",
       "1               3             1          12                6             3   \n",
       "2               3             1          12                6             3   \n",
       "3               3             2          12                6             3   \n",
       "4               3             1          12                6             3   \n",
       "...           ...           ...         ...              ...           ...   \n",
       "100642          5             4           5               10             7   \n",
       "100643          6             1           3                7             9   \n",
       "100644          6             1           7                7             6   \n",
       "100645          6             1           7                7             6   \n",
       "100646          6             2           7                7             8   \n",
       "\n",
       "        Class  \n",
       "0          87  \n",
       "1         170  \n",
       "2         170  \n",
       "3         242  \n",
       "4         170  \n",
       "...       ...  \n",
       "100642   1734  \n",
       "100643   2224  \n",
       "100644   2235  \n",
       "100645   2235  \n",
       "100646   2277  \n",
       "\n",
       "[100647 rows x 6 columns]"
      ],
      "text/html": "<div>\n<style scoped>\n    .dataframe tbody tr th:only-of-type {\n        vertical-align: middle;\n    }\n\n    .dataframe tbody tr th {\n        vertical-align: top;\n    }\n\n    .dataframe thead th {\n        text-align: right;\n    }\n</style>\n<table border=\"1\" class=\"dataframe\">\n  <thead>\n    <tr style=\"text-align: right;\">\n      <th></th>\n      <th>flat_type</th>\n      <th>storey_range</th>\n      <th>flat_model</th>\n      <th>remaining_lease</th>\n      <th>resale_price</th>\n      <th>Class</th>\n    </tr>\n  </thead>\n  <tbody>\n    <tr>\n      <th>0</th>\n      <td>2</td>\n      <td>4</td>\n      <td>5</td>\n      <td>6</td>\n      <td>3</td>\n      <td>87</td>\n    </tr>\n    <tr>\n      <th>1</th>\n      <td>3</td>\n      <td>1</td>\n      <td>12</td>\n      <td>6</td>\n      <td>3</td>\n      <td>170</td>\n    </tr>\n    <tr>\n      <th>2</th>\n      <td>3</td>\n      <td>1</td>\n      <td>12</td>\n      <td>6</td>\n      <td>3</td>\n      <td>170</td>\n    </tr>\n    <tr>\n      <th>3</th>\n      <td>3</td>\n      <td>2</td>\n      <td>12</td>\n      <td>6</td>\n      <td>3</td>\n      <td>242</td>\n    </tr>\n    <tr>\n      <th>4</th>\n      <td>3</td>\n      <td>1</td>\n      <td>12</td>\n      <td>6</td>\n      <td>3</td>\n      <td>170</td>\n    </tr>\n    <tr>\n      <th>...</th>\n      <td>...</td>\n      <td>...</td>\n      <td>...</td>\n      <td>...</td>\n      <td>...</td>\n      <td>...</td>\n    </tr>\n    <tr>\n      <th>100642</th>\n      <td>5</td>\n      <td>4</td>\n      <td>5</td>\n      <td>10</td>\n      <td>7</td>\n      <td>1734</td>\n    </tr>\n    <tr>\n      <th>100643</th>\n      <td>6</td>\n      <td>1</td>\n      <td>3</td>\n      <td>7</td>\n      <td>9</td>\n      <td>2224</td>\n    </tr>\n    <tr>\n      <th>100644</th>\n      <td>6</td>\n      <td>1</td>\n      <td>7</td>\n      <td>7</td>\n      <td>6</td>\n      <td>2235</td>\n    </tr>\n    <tr>\n      <th>100645</th>\n      <td>6</td>\n      <td>1</td>\n      <td>7</td>\n      <td>7</td>\n      <td>6</td>\n      <td>2235</td>\n    </tr>\n    <tr>\n      <th>100646</th>\n      <td>6</td>\n      <td>2</td>\n      <td>7</td>\n      <td>7</td>\n      <td>8</td>\n      <td>2277</td>\n    </tr>\n  </tbody>\n</table>\n<p>100647 rows × 6 columns</p>\n</div>"
     },
     "metadata": {},
     "execution_count": 104
    }
   ],
   "source": [
    "resaleFlatGroupDF = resaleFlatDF.groupby([\"flat_type\",\"storey_range\",\"flat_model\",\"remaining_lease\",\"resale_price\"])\n",
    "resaleFlatDF[\"Class\"] = 0\n",
    "for i, (key, df) in enumerate(resaleFlatGroupDF):\n",
    "    for row in df.iterrows():\n",
    "        resaleFlatDF.loc[row[0], 'Class'] = i\n",
    "resaleFlatDF"
   ]
  }
 ],
 "metadata": {
  "kernelspec": {
   "name": "python3",
   "display_name": "Python 3.8.1 64-bit"
  },
  "language_info": {
   "codemirror_mode": {
    "name": "ipython",
    "version": 3
   },
   "file_extension": ".py",
   "mimetype": "text/x-python",
   "name": "python",
   "nbconvert_exporter": "python",
   "pygments_lexer": "ipython3",
   "version": "3.8.1"
  },
  "interpreter": {
   "hash": "93b9f708ed5e8d24f7709ea09ddeb9eb899ba735f4747d12dc9db29cca9f1910"
  }
 },
 "nbformat": 4,
 "nbformat_minor": 4
}